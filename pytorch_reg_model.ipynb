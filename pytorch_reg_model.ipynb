{
 "cells": [
  {
   "cell_type": "code",
   "execution_count": 100,
   "metadata": {},
   "outputs": [],
   "source": [
    "import torch\n",
    "import pandas as pd\n",
    "import numpy as np\n",
    "import matplotlib.pyplot as plt\n",
    "\n",
    "from pathlib import Path"
   ]
  },
  {
   "cell_type": "code",
   "execution_count": 101,
   "metadata": {},
   "outputs": [
    {
     "name": "stdout",
     "output_type": "stream",
     "text": [
      "cuda\n",
      "1\n"
     ]
    }
   ],
   "source": [
    "# Check if cuda is on or not and set it.\n",
    "device = \"cuda\" if torch.cuda.is_available() else \"cpu\"\n",
    "device_count = torch.cuda.device_count()\n",
    "print(device)\n",
    "print(device_count)"
   ]
  },
  {
   "cell_type": "code",
   "execution_count": 102,
   "metadata": {},
   "outputs": [
    {
     "data": {
      "text/plain": [
       "(tensor([[0.0000],\n",
       "         [0.0200],\n",
       "         [0.0400],\n",
       "         [0.0600],\n",
       "         [0.0800],\n",
       "         [0.1000],\n",
       "         [0.1200],\n",
       "         [0.1400],\n",
       "         [0.1600],\n",
       "         [0.1800]], device='cuda:0'),\n",
       " tensor([[0.3000],\n",
       "         [0.3140],\n",
       "         [0.3280],\n",
       "         [0.3420],\n",
       "         [0.3560],\n",
       "         [0.3700],\n",
       "         [0.3840],\n",
       "         [0.3980],\n",
       "         [0.4120],\n",
       "         [0.4260]], device='cuda:0'))"
      ]
     },
     "execution_count": 102,
     "metadata": {},
     "output_type": "execute_result"
    }
   ],
   "source": [
    "# Create data\n",
    "weight = 0.7\n",
    "bias = 0.3\n",
    "\n",
    "start = 0\n",
    "end = 1\n",
    "step = 0.02\n",
    "\n",
    "X = torch.arange(start=start,end=end,step = step,device= device).unsqueeze(dim=1)\n",
    "\n",
    "y = weight*X + bias\n",
    "\n",
    "X[:10], y[:10]"
   ]
  },
  {
   "cell_type": "code",
   "execution_count": 103,
   "metadata": {},
   "outputs": [],
   "source": [
    "# Splitting data into training and test \n",
    "train_split_index = int(0.8*len(X))\n",
    "X_train, y_train = X[:train_split_index],y[:train_split_index]\n",
    "X_test, y_test = X[train_split_index:], y[train_split_index:]"
   ]
  },
  {
   "cell_type": "code",
   "execution_count": 104,
   "metadata": {},
   "outputs": [],
   "source": [
    "def plot_data(x_train, y_train,x_test,y_test,predictions = None):\n",
    "\n",
    "    train = plt.scatter(x=x_train,y= y_train,c='red',s = 5)\n",
    "    test = plt.scatter(x = x_test, y = y_test,c='g', s = 5)\n",
    "    if predictions is not None:\n",
    "        predictions = plt.scatter(x=x_test,y=predictions,c='tab:orange', s = 5)\n",
    "    plt.title(\"Train Data\")\n",
    "    plt.xlabel(\"x-label\")\n",
    "    plt.ylabel(\"y-label\")\n",
    "    plt.legend([\"train\",\"test\", \"predictions\"])\n",
    "    plt.show()\n"
   ]
  },
  {
   "cell_type": "code",
   "execution_count": 105,
   "metadata": {},
   "outputs": [],
   "source": [
    "# Build Regression model using pytorch\n",
    "\n",
    "from torch import nn\n",
    "\n",
    "class LinearRegression(nn.Module):\n",
    "    def __init__(self):\n",
    "        super().__init__()\n",
    "        self.linear_layer = nn.Linear(in_features=1,out_features=1)\n",
    "        \n",
    "    def forward(self,x:torch.Tensor) -> torch.Tensor:\n",
    "        return self.linear_layer(x)\n"
   ]
  },
  {
   "cell_type": "code",
   "execution_count": 106,
   "metadata": {},
   "outputs": [
    {
     "data": {
      "text/plain": [
       "LinearRegression(\n",
       "  (linear_layer): Linear(in_features=1, out_features=1, bias=True)\n",
       ")"
      ]
     },
     "execution_count": 106,
     "metadata": {},
     "output_type": "execute_result"
    }
   ],
   "source": [
    "# Create a random seed\n",
    "torch.manual_seed(42)\n",
    "\n",
    "# create model\n",
    "reg_model = LinearRegression()\n",
    "\n",
    "# Check random parameters\n",
    "reg_model.state_dict()\n",
    "\n",
    "# set model to work on GPU\n",
    "reg_model.to(device)\n",
    "\n"
   ]
  },
  {
   "cell_type": "code",
   "execution_count": 107,
   "metadata": {},
   "outputs": [],
   "source": [
    "def transferToCpu(t:torch.Tensor):\n",
    "    return torch.tensor(t).clone().detach().cpu().numpy()"
   ]
  },
  {
   "cell_type": "code",
   "execution_count": 108,
   "metadata": {},
   "outputs": [
    {
     "name": "stderr",
     "output_type": "stream",
     "text": [
      "/tmp/ipykernel_24822/1646531776.py:2: UserWarning: To copy construct from a tensor, it is recommended to use sourceTensor.clone().detach() or sourceTensor.clone().detach().requires_grad_(True), rather than torch.tensor(sourceTensor).\n",
      "  return torch.tensor(t).clone().detach().cpu().numpy()\n"
     ]
    },
    {
     "data": {
      "image/png": "[encoded data removed]",
      "text/plain": [
       "<Figure size 640x480 with 1 Axes>"
      ]
     },
     "metadata": {},
     "output_type": "display_data"
    }
   ],
   "source": [
    "with torch.inference_mode():\n",
    "    y_preds = reg_model(X_test)\n",
    "\n",
    "plot_data(x_train=transferToCpu(X_train),\n",
    "          y_train= transferToCpu(y_train),\n",
    "          x_test= transferToCpu(X_test), \n",
    "          y_test= transferToCpu(y_test),\n",
    "          predictions= transferToCpu(y_preds))"
   ]
  },
  {
   "cell_type": "code",
   "execution_count": 109,
   "metadata": {},
   "outputs": [],
   "source": [
    "# set loss function\n",
    "loss_fn = nn.L1Loss()\n",
    "# set optimizer\n",
    "optimizer = torch.optim.SGD(reg_model.parameters(),lr= 0.01)"
   ]
  },
  {
   "cell_type": "code",
   "execution_count": 110,
   "metadata": {},
   "outputs": [],
   "source": [
    "def predict():\n",
    "    reg_model.eval()\n",
    "    with torch.inference_mode():\n",
    "        y_preds = reg_model(X_test)\n",
    "    \n",
    "    loss = loss_fn(y_preds,y_test)\n",
    "    return loss, y_preds"
   ]
  },
  {
   "cell_type": "code",
   "execution_count": 111,
   "metadata": {},
   "outputs": [
    {
     "name": "stdout",
     "output_type": "stream",
     "text": [
      "0 : tensor(0.5552, device='cuda:0', grad_fn=<MeanBackward0>)\n",
      "1 : tensor(0.5437, device='cuda:0', grad_fn=<MeanBackward0>)\n",
      "2 : tensor(0.5321, device='cuda:0', grad_fn=<MeanBackward0>)\n",
      "3 : tensor(0.5206, device='cuda:0', grad_fn=<MeanBackward0>)\n",
      "4 : tensor(0.5091, device='cuda:0', grad_fn=<MeanBackward0>)\n",
      "5 : tensor(0.4976, device='cuda:0', grad_fn=<MeanBackward0>)\n",
      "6 : tensor(0.4861, device='cuda:0', grad_fn=<MeanBackward0>)\n",
      "7 : tensor(0.4745, device='cuda:0', grad_fn=<MeanBackward0>)\n",
      "8 : tensor(0.4630, device='cuda:0', grad_fn=<MeanBackward0>)\n",
      "9 : tensor(0.4515, device='cuda:0', grad_fn=<MeanBackward0>)\n",
      "10 : tensor(0.4400, device='cuda:0', grad_fn=<MeanBackward0>)\n",
      "11 : tensor(0.4284, device='cuda:0', grad_fn=<MeanBackward0>)\n",
      "12 : tensor(0.4169, device='cuda:0', grad_fn=<MeanBackward0>)\n",
      "13 : tensor(0.4054, device='cuda:0', grad_fn=<MeanBackward0>)\n",
      "14 : tensor(0.3939, device='cuda:0', grad_fn=<MeanBackward0>)\n",
      "15 : tensor(0.3824, device='cuda:0', grad_fn=<MeanBackward0>)\n",
      "16 : tensor(0.3708, device='cuda:0', grad_fn=<MeanBackward0>)\n",
      "17 : tensor(0.3593, device='cuda:0', grad_fn=<MeanBackward0>)\n",
      "18 : tensor(0.3478, device='cuda:0', grad_fn=<MeanBackward0>)\n",
      "19 : tensor(0.3363, device='cuda:0', grad_fn=<MeanBackward0>)\n",
      "20 : tensor(0.3248, device='cuda:0', grad_fn=<MeanBackward0>)\n",
      "21 : tensor(0.3132, device='cuda:0', grad_fn=<MeanBackward0>)\n",
      "22 : tensor(0.3017, device='cuda:0', grad_fn=<MeanBackward0>)\n",
      "23 : tensor(0.2902, device='cuda:0', grad_fn=<MeanBackward0>)\n",
      "24 : tensor(0.2787, device='cuda:0', grad_fn=<MeanBackward0>)\n",
      "25 : tensor(0.2672, device='cuda:0', grad_fn=<MeanBackward0>)\n",
      "26 : tensor(0.2556, device='cuda:0', grad_fn=<MeanBackward0>)\n",
      "27 : tensor(0.2441, device='cuda:0', grad_fn=<MeanBackward0>)\n",
      "28 : tensor(0.2326, device='cuda:0', grad_fn=<MeanBackward0>)\n",
      "29 : tensor(0.2211, device='cuda:0', grad_fn=<MeanBackward0>)\n",
      "30 : tensor(0.2095, device='cuda:0', grad_fn=<MeanBackward0>)\n",
      "31 : tensor(0.1980, device='cuda:0', grad_fn=<MeanBackward0>)\n",
      "32 : tensor(0.1865, device='cuda:0', grad_fn=<MeanBackward0>)\n",
      "33 : tensor(0.1750, device='cuda:0', grad_fn=<MeanBackward0>)\n",
      "34 : tensor(0.1635, device='cuda:0', grad_fn=<MeanBackward0>)\n",
      "35 : tensor(0.1519, device='cuda:0', grad_fn=<MeanBackward0>)\n",
      "36 : tensor(0.1404, device='cuda:0', grad_fn=<MeanBackward0>)\n",
      "37 : tensor(0.1289, device='cuda:0', grad_fn=<MeanBackward0>)\n",
      "38 : tensor(0.1174, device='cuda:0', grad_fn=<MeanBackward0>)\n",
      "39 : tensor(0.1059, device='cuda:0', grad_fn=<MeanBackward0>)\n",
      "40 : tensor(0.0943, device='cuda:0', grad_fn=<MeanBackward0>)\n",
      "41 : tensor(0.0828, device='cuda:0', grad_fn=<MeanBackward0>)\n",
      "42 : tensor(0.0713, device='cuda:0', grad_fn=<MeanBackward0>)\n",
      "43 : tensor(0.0598, device='cuda:0', grad_fn=<MeanBackward0>)\n",
      "44 : tensor(0.0483, device='cuda:0', grad_fn=<MeanBackward0>)\n",
      "45 : tensor(0.0374, device='cuda:0', grad_fn=<MeanBackward0>)\n",
      "46 : tensor(0.0309, device='cuda:0', grad_fn=<MeanBackward0>)\n",
      "47 : tensor(0.0276, device='cuda:0', grad_fn=<MeanBackward0>)\n",
      "48 : tensor(0.0258, device='cuda:0', grad_fn=<MeanBackward0>)\n",
      "49 : tensor(0.0247, device='cuda:0', grad_fn=<MeanBackward0>)\n",
      "50 : tensor(0.0239, device='cuda:0', grad_fn=<MeanBackward0>)\n",
      "51 : tensor(0.0234, device='cuda:0', grad_fn=<MeanBackward0>)\n",
      "52 : tensor(0.0229, device='cuda:0', grad_fn=<MeanBackward0>)\n",
      "53 : tensor(0.0225, device='cuda:0', grad_fn=<MeanBackward0>)\n",
      "54 : tensor(0.0221, device='cuda:0', grad_fn=<MeanBackward0>)\n",
      "55 : tensor(0.0217, device='cuda:0', grad_fn=<MeanBackward0>)\n",
      "56 : tensor(0.0214, device='cuda:0', grad_fn=<MeanBackward0>)\n",
      "57 : tensor(0.0210, device='cuda:0', grad_fn=<MeanBackward0>)\n",
      "58 : tensor(0.0207, device='cuda:0', grad_fn=<MeanBackward0>)\n",
      "59 : tensor(0.0203, device='cuda:0', grad_fn=<MeanBackward0>)\n",
      "60 : tensor(0.0200, device='cuda:0', grad_fn=<MeanBackward0>)\n",
      "61 : tensor(0.0196, device='cuda:0', grad_fn=<MeanBackward0>)\n",
      "62 : tensor(0.0193, device='cuda:0', grad_fn=<MeanBackward0>)\n",
      "63 : tensor(0.0189, device='cuda:0', grad_fn=<MeanBackward0>)\n",
      "64 : tensor(0.0186, device='cuda:0', grad_fn=<MeanBackward0>)\n",
      "65 : tensor(0.0182, device='cuda:0', grad_fn=<MeanBackward0>)\n",
      "66 : tensor(0.0179, device='cuda:0', grad_fn=<MeanBackward0>)\n",
      "67 : tensor(0.0176, device='cuda:0', grad_fn=<MeanBackward0>)\n",
      "68 : tensor(0.0172, device='cuda:0', grad_fn=<MeanBackward0>)\n",
      "69 : tensor(0.0169, device='cuda:0', grad_fn=<MeanBackward0>)\n",
      "70 : tensor(0.0165, device='cuda:0', grad_fn=<MeanBackward0>)\n",
      "71 : tensor(0.0162, device='cuda:0', grad_fn=<MeanBackward0>)\n",
      "72 : tensor(0.0158, device='cuda:0', grad_fn=<MeanBackward0>)\n",
      "73 : tensor(0.0155, device='cuda:0', grad_fn=<MeanBackward0>)\n",
      "74 : tensor(0.0151, device='cuda:0', grad_fn=<MeanBackward0>)\n",
      "75 : tensor(0.0148, device='cuda:0', grad_fn=<MeanBackward0>)\n",
      "76 : tensor(0.0145, device='cuda:0', grad_fn=<MeanBackward0>)\n",
      "77 : tensor(0.0141, device='cuda:0', grad_fn=<MeanBackward0>)\n",
      "78 : tensor(0.0138, device='cuda:0', grad_fn=<MeanBackward0>)\n",
      "79 : tensor(0.0134, device='cuda:0', grad_fn=<MeanBackward0>)\n",
      "80 : tensor(0.0131, device='cuda:0', grad_fn=<MeanBackward0>)\n",
      "81 : tensor(0.0127, device='cuda:0', grad_fn=<MeanBackward0>)\n",
      "82 : tensor(0.0124, device='cuda:0', grad_fn=<MeanBackward0>)\n",
      "83 : tensor(0.0121, device='cuda:0', grad_fn=<MeanBackward0>)\n",
      "84 : tensor(0.0117, device='cuda:0', grad_fn=<MeanBackward0>)\n",
      "85 : tensor(0.0114, device='cuda:0', grad_fn=<MeanBackward0>)\n",
      "86 : tensor(0.0110, device='cuda:0', grad_fn=<MeanBackward0>)\n",
      "87 : tensor(0.0107, device='cuda:0', grad_fn=<MeanBackward0>)\n",
      "88 : tensor(0.0103, device='cuda:0', grad_fn=<MeanBackward0>)\n",
      "89 : tensor(0.0100, device='cuda:0', grad_fn=<MeanBackward0>)\n",
      "90 : tensor(0.0097, device='cuda:0', grad_fn=<MeanBackward0>)\n",
      "91 : tensor(0.0093, device='cuda:0', grad_fn=<MeanBackward0>)\n",
      "92 : tensor(0.0090, device='cuda:0', grad_fn=<MeanBackward0>)\n",
      "93 : tensor(0.0086, device='cuda:0', grad_fn=<MeanBackward0>)\n",
      "94 : tensor(0.0083, device='cuda:0', grad_fn=<MeanBackward0>)\n",
      "95 : tensor(0.0079, device='cuda:0', grad_fn=<MeanBackward0>)\n",
      "96 : tensor(0.0076, device='cuda:0', grad_fn=<MeanBackward0>)\n",
      "97 : tensor(0.0072, device='cuda:0', grad_fn=<MeanBackward0>)\n",
      "98 : tensor(0.0069, device='cuda:0', grad_fn=<MeanBackward0>)\n",
      "99 : tensor(0.0066, device='cuda:0', grad_fn=<MeanBackward0>)\n"
     ]
    }
   ],
   "source": [
    "# train the network\n",
    "epochs = 100\n",
    "\n",
    "train_losses = []\n",
    "test_losses = []\n",
    "\n",
    "for ep in range(epochs):\n",
    "    reg_model.train()\n",
    "    # doing the feed_forward\n",
    "    y_train_preds = reg_model(X_train)\n",
    "\n",
    "    #calculate the loss\n",
    "    train_loss = loss_fn(y_train_preds,y_train)\n",
    "\n",
    "    print(ep,\":\",train_loss)\n",
    "\n",
    "    optimizer.zero_grad()\n",
    "\n",
    "    #calculate gradient descent\n",
    "    train_loss.backward()\n",
    "\n",
    "    optimizer.step()\n",
    "\n",
    "    if ep % 10 == 0:\n",
    "        train_losses.append(train_loss)\n",
    "        test_cost, _ = predict()\n",
    "        test_losses.append(test_cost)\n"
   ]
  },
  {
   "cell_type": "code",
   "execution_count": 112,
   "metadata": {},
   "outputs": [
    {
     "name": "stdout",
     "output_type": "stream",
     "text": [
      "10\n"
     ]
    },
    {
     "data": {
      "image/png": "[encoded data removed]",
      "text/plain": [
       "<Figure size 640x480 with 1 Axes>"
      ]
     },
     "metadata": {},
     "output_type": "display_data"
    }
   ],
   "source": [
    "x_epoch = np.arange(10)\n",
    "\n",
    "train_losses = torch.tensor(train_losses).clone().detach().cpu().numpy()\n",
    "test_losses = torch.tensor(test_losses).clone().detach().cpu().numpy()\n",
    "\n",
    "print(len(train_losses))\n",
    "\n",
    "plt.plot(x_epoch,train_losses)\n",
    "plt.plot(x_epoch,test_losses,color='green')\n",
    "\n",
    "plt.title(\"Train/Test Cost\")\n",
    "plt.xlabel(\"Epoch\")\n",
    "plt.ylabel(\"Cost\")\n",
    "plt.legend([\"train\",\"test\",])\n",
    "plt.show()"
   ]
  },
  {
   "cell_type": "code",
   "execution_count": 113,
   "metadata": {},
   "outputs": [
    {
     "name": "stderr",
     "output_type": "stream",
     "text": [
      "/tmp/ipykernel_24822/1646531776.py:2: UserWarning: To copy construct from a tensor, it is recommended to use sourceTensor.clone().detach() or sourceTensor.clone().detach().requires_grad_(True), rather than torch.tensor(sourceTensor).\n",
      "  return torch.tensor(t).clone().detach().cpu().numpy()\n"
     ]
    },
    {
     "data": {
      "image/png": "[encoded data removed]",
      "text/plain": [
       "<Figure size 640x480 with 1 Axes>"
      ]
     },
     "metadata": {},
     "output_type": "display_data"
    }
   ],
   "source": [
    "loss, y_pred = predict()\n",
    "\n",
    "plot_data(x_train=transferToCpu(X_train),\n",
    "          y_train= transferToCpu(y_train), \n",
    "          x_test= transferToCpu(X_test), \n",
    "          y_test= transferToCpu(y_test),\n",
    "            predictions= transferToCpu(y_pred))"
   ]
  },
  {
   "cell_type": "code",
   "execution_count": 114,
   "metadata": {},
   "outputs": [
    {
     "data": {
      "text/plain": [
       "OrderedDict([('linear_layer.weight', tensor([[0.6691]], device='cuda:0')),\n",
       "             ('linear_layer.bias', tensor([0.3130], device='cuda:0'))])"
      ]
     },
     "execution_count": 114,
     "metadata": {},
     "output_type": "execute_result"
    }
   ],
   "source": [
    "reg_model.state_dict()"
   ]
  }
 ],
 "metadata": {
  "kernelspec": {
   "display_name": "Python 3",
   "language": "python",
   "name": "python3"
  },
  "language_info": {
   "codemirror_mode": {
    "name": "ipython",
    "version": 3
   },
   "file_extension": ".py",
   "mimetype": "text/x-python",
   "name": "python",
   "nbconvert_exporter": "python",
   "pygments_lexer": "ipython3",
   "version": "3.10.12"
  },
  "orig_nbformat": 4
 },
 "nbformat": 4,
 "nbformat_minor": 2
}
